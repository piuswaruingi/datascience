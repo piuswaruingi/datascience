{
 "cells": [
  {
   "cell_type": "code",
   "execution_count": 3,
   "metadata": {},
   "outputs": [
    {
     "name": "stdout",
     "output_type": "stream",
     "text": [
      "2\n",
      "7\n",
      "9\n"
     ]
    },
    {
     "name": "stderr",
     "output_type": "stream",
     "text": [
      "C:\\Users\\jecip\\AppData\\Local\\Temp\\ipykernel_23408\\2965159621.py:2: DeprecationWarning: \n",
      "Pyarrow will become a required dependency of pandas in the next major release of pandas (pandas 3.0),\n",
      "(to allow more performant data types, such as the Arrow string type, and better interoperability with other libraries)\n",
      "but was not found to be installed on your system.\n",
      "If this would cause problems for you,\n",
      "please provide us feedback at https://github.com/pandas-dev/pandas/issues/54466\n",
      "        \n",
      "  import pandas as pd\n"
     ]
    }
   ],
   "source": [
    "import numpy as np\n",
    "import pandas as pd\n",
    " \n",
    "u = np.array([2, 4, 7, 5, 9, 10, 16])\n",
    "print(u[0])\n",
    "print(u[2])\n",
    "print(u[4])"
   ]
  },
  {
   "cell_type": "code",
   "execution_count": 4,
   "metadata": {},
   "outputs": [
    {
     "name": "stdout",
     "output_type": "stream",
     "text": [
      "[ 2  4  7  5  9 10 16]\n"
     ]
    }
   ],
   "source": [
    "print(u)"
   ]
  },
  {
   "cell_type": "code",
   "execution_count": 9,
   "metadata": {},
   "outputs": [
    {
     "name": "stdout",
     "output_type": "stream",
     "text": [
      "[[100 230 112]\n",
      " [110 344 170]\n",
      " [120 380 190]]\n"
     ]
    }
   ],
   "source": [
    "import numpy as np \n",
    "\n",
    "revenue = np.array([[180, 240,120],[200, 360,180], [220, 400, 200]])\n",
    "expenses = np.array([[80, 10, 8], [90, 16,10], [100, 20,10]])\n",
    "\n",
    "profit= revenue-expenses\n",
    "print(profit)"
   ]
  },
  {
   "cell_type": "code",
   "execution_count": 15,
   "metadata": {},
   "outputs": [],
   "source": [
    "import numpy as np \n",
    "units = np.array ([[50, 60 ,25],[10, 13, 5],[40, 70, 52]])\n",
    "priceperunit = np.array([20, 30, 15])\n",
    "totalunits = units*priceperunit\n",
    "\n"
   ]
  },
  {
   "cell_type": "code",
   "execution_count": 16,
   "metadata": {},
   "outputs": [
    {
     "name": "stdout",
     "output_type": "stream",
     "text": [
      "[[1000 1800  375]\n",
      " [ 200  390   75]\n",
      " [ 800 2100  780]]\n"
     ]
    }
   ],
   "source": [
    "print(totalunits)"
   ]
  },
  {
   "cell_type": "code",
   "execution_count": 12,
   "metadata": {},
   "outputs": [],
   "source": [
    "import numpy as np\n",
    "\n",
    "units = np.array([[50, 60, 25],\n",
    "                  [10, 13, 5],\n",
    "                  [40, 70, 52]])\n",
    "\n",
    "priceperunit = np.array([20, 30, 15])\n",
    "totalunits = units * priceperunit"
   ]
  },
  {
   "cell_type": "code",
   "execution_count": 17,
   "metadata": {},
   "outputs": [
    {
     "name": "stdout",
     "output_type": "stream",
     "text": [
      "[[1000 1800  375]\n",
      " [ 200  390   75]\n",
      " [ 800 2100  780]]\n"
     ]
    }
   ],
   "source": [
    "print(totalunits)"
   ]
  },
  {
   "cell_type": "code",
   "execution_count": 20,
   "metadata": {},
   "outputs": [
    {
     "data": {
      "text/plain": [
       "array([1900, 2640, 1430])"
      ]
     },
     "execution_count": 20,
     "metadata": {},
     "output_type": "execute_result"
    }
   ],
   "source": [
    "priceperunit=np.array([20,30,15])\n",
    "units=np.array([[50,60,25],[10,13,5],[40,70,52]])\n",
    "totalsales=np.dot(priceperunit,units)\n",
    "totalsales"
   ]
  }
 ],
 "metadata": {
  "kernelspec": {
   "display_name": "Python 3",
   "language": "python",
   "name": "python3"
  },
  "language_info": {
   "codemirror_mode": {
    "name": "ipython",
    "version": 3
   },
   "file_extension": ".py",
   "mimetype": "text/x-python",
   "name": "python",
   "nbconvert_exporter": "python",
   "pygments_lexer": "ipython3",
   "version": "3.10.11"
  }
 },
 "nbformat": 4,
 "nbformat_minor": 2
}
